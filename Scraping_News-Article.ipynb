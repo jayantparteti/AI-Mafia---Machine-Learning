{
 "cells": [
  {
   "cell_type": "code",
   "execution_count": 11,
   "metadata": {},
   "outputs": [
    {
     "name": "stdout",
     "output_type": "stream",
     "text": [
      "['May 2020', 'April 2020', 'March 2020', 'February 2020', 'January 2020', 'December 2019', 'November 2019', 'October 2019', 'September 2019', 'May 2019', 'April 2019', 'March 2019', 'February 2019', 'January 2019', 'December 2018', 'November 2018', 'October 2018', 'September 2018', 'June 2018', 'May 2018', 'April 2018', 'March 2018', 'February 2018', 'January 2018', 'December 2017', 'November 2017', 'October 2017', 'September 2017', 'May 2017', 'April 2017', 'March 2017']\n"
     ]
    }
   ],
   "source": [
    "from bs4 import BeautifulSoup\n",
    "import requests\n",
    "import pandas as pd\n",
    "from pandas import Series,DataFrame\n",
    "\n",
    "url = 'https://www.studentnewsdaily.com/archive/daily-news-article/'\n",
    "\n",
    "# Calling the API Server using request Module\n",
    "result = requests.get(url)\n",
    "# print(result.content)\n",
    "soup = BeautifulSoup(result.content,'lxml')\n",
    "# print(soup)\n",
    "content=soup.findAll('section')\n",
    "# print(content)\n",
    "summary=content[1].find(class_=\"col-md-10 col-lg-10 col-xl-10\")\n",
    "# print(summary.findAll('h4'))\n",
    "l=summary.findAll('h4')\n",
    "series = [ele.get_text() for ele in l]\n",
    "print(series)"
   ]
  },
  {
   "cell_type": "code",
   "execution_count": null,
   "metadata": {},
   "outputs": [],
   "source": []
  }
 ],
 "metadata": {
  "kernelspec": {
   "display_name": "Python 3",
   "language": "python",
   "name": "python3"
  },
  "language_info": {
   "codemirror_mode": {
    "name": "ipython",
    "version": 3
   },
   "file_extension": ".py",
   "mimetype": "text/x-python",
   "name": "python",
   "nbconvert_exporter": "python",
   "pygments_lexer": "ipython3",
   "version": "3.7.3"
  }
 },
 "nbformat": 4,
 "nbformat_minor": 2
}
