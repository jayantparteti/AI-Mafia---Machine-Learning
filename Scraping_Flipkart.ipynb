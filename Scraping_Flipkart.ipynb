{
 "cells": [
  {
   "cell_type": "code",
   "execution_count": 41,
   "metadata": {},
   "outputs": [
    {
     "name": "stdout",
     "output_type": "stream",
     "text": [
      "Product Name => Apple iPhone SE (Black, 64 GB)\n",
      "Pricing => ₹42,500\n",
      "Ratings => 4.6(4,535)\n",
      "Product Name => Apple iPhone SE (White, 64 GB)\n",
      "Pricing => ₹42,500\n",
      "Ratings => 4.6(4,535)\n",
      "Product Name => Apple iPhone 7 (Black, 32 GB)\n",
      "Pricing => ₹29,499₹29,9001% off\n",
      "Ratings => 4.5(88,794)\n",
      "Product Name => Apple iPhone SE (Black, 128 GB)\n",
      "Pricing => ₹47,800\n",
      "Ratings => 4.6(4,535)\n",
      "Product Name => Apple iPhone 7 Plus (Black, 32 GB)\n",
      "Pricing => ₹36,999₹37,9002% off\n",
      "Ratings => 4.5(25,440)\n",
      "Product Name => Apple iPhone SE (White, 128 GB)\n",
      "Pricing => ₹47,800\n",
      "Ratings => 4.6(4,535)\n",
      "Product Name => Apple iPhone 11 (Black, 64 GB)\n",
      "Pricing => ₹68,300\n",
      "Ratings => 4.7(12,775)\n",
      "Product Name => Apple iPhone 11 (White, 64 GB)\n",
      "Pricing => ₹68,300\n",
      "Ratings => 4.7(12,775)\n",
      "Product Name => Apple iPhone 11 (Black, 128 GB)\n",
      "Pricing => ₹73,600\n",
      "Ratings => 4.7(12,775)\n",
      "Product Name => Apple iPhone XS (Space Grey, 64 GB)\n",
      "Pricing => ₹62,999₹89,90029% off\n",
      "Ratings => 4.7(9,886)\n",
      "Product Name => Apple iPhone 11 (Green, 128 GB)\n",
      "Pricing => ₹73,600\n",
      "Ratings => 4.7(12,775)\n",
      "Product Name => Apple iPhone 11 (White, 128 GB)\n",
      "Pricing => ₹73,600\n",
      "Ratings => 4.7(12,775)\n",
      "Product Name => Flipkart SmartBuy Tempered Glass Guard for Apple iPhone SE, Apple iPhone SE 2020\n",
      "Pricing => ₹199₹39950% off\n",
      "Ratings => 3.3(242)\n"
     ]
    },
    {
     "ename": "TypeError",
     "evalue": "'NoneType' object is not subscriptable",
     "output_type": "error",
     "traceback": [
      "\u001b[1;31m---------------------------------------------------------------------------\u001b[0m",
      "\u001b[1;31mTypeError\u001b[0m                                 Traceback (most recent call last)",
      "\u001b[1;32m<ipython-input-41-48acf2d7bf1a>\u001b[0m in \u001b[0;36m<module>\u001b[1;34m\u001b[0m\n\u001b[0;32m     26\u001b[0m \u001b[1;33m\u001b[0m\u001b[0m\n\u001b[0;32m     27\u001b[0m \u001b[1;32mfor\u001b[0m \u001b[0mcontainer\u001b[0m \u001b[1;32min\u001b[0m \u001b[0mcontainers\u001b[0m\u001b[1;33m:\u001b[0m\u001b[1;33m\u001b[0m\u001b[1;33m\u001b[0m\u001b[0m\n\u001b[1;32m---> 28\u001b[1;33m     \u001b[0mproduct_name\u001b[0m \u001b[1;33m=\u001b[0m \u001b[0mcontainer\u001b[0m\u001b[1;33m.\u001b[0m\u001b[0mdiv\u001b[0m\u001b[1;33m.\u001b[0m\u001b[0mimg\u001b[0m\u001b[1;33m[\u001b[0m\u001b[1;34m\"alt\"\u001b[0m\u001b[1;33m]\u001b[0m\u001b[1;33m\u001b[0m\u001b[1;33m\u001b[0m\u001b[0m\n\u001b[0m\u001b[0;32m     29\u001b[0m \u001b[1;33m\u001b[0m\u001b[0m\n\u001b[0;32m     30\u001b[0m     \u001b[0mprice_container\u001b[0m\u001b[1;33m=\u001b[0m\u001b[0mcontainer\u001b[0m\u001b[1;33m.\u001b[0m\u001b[0mfindAll\u001b[0m\u001b[1;33m(\u001b[0m\u001b[1;34m\"div\"\u001b[0m\u001b[1;33m,\u001b[0m\u001b[0mclass_\u001b[0m\u001b[1;33m=\u001b[0m\u001b[1;34m\"_1uv9Cb\"\u001b[0m\u001b[1;33m)\u001b[0m\u001b[1;33m\u001b[0m\u001b[1;33m\u001b[0m\u001b[0m\n",
      "\u001b[1;31mTypeError\u001b[0m: 'NoneType' object is not subscriptable"
     ]
    }
   ],
   "source": [
    "from bs4 import BeautifulSoup\n",
    "import requests\n",
    "import pandas as pd\n",
    "from pandas import Series,DataFrame\n",
    "\n",
    "url = \"https://www.flipkart.com/search?q=iphone&otracker=search&otracker1=search&marketplace=FLIPKART&as-show=on&as=off\"\n",
    "\n",
    "result = requests.get(url)\n",
    "soup=BeautifulSoup(result.content,\"lxml\")\n",
    "containers=soup.findAll(\"div\",class_=\"_3liAhj\")\n",
    "# print(len(containers))\n",
    "# print(containers[0].prettify())\n",
    "container=containers[0]\n",
    "title=container.div.img[\"alt\"]\n",
    "# print(title)\n",
    "price=container.findAll(\"div\",class_=\"_1uv9Cb\")\n",
    "real_price=price[0].text\n",
    "# print(real_price)\n",
    "ratings=container.findAll(\"div\",class_=\"niH0FQ _36Fcw_\")\n",
    "real_ratings=ratings[0].text\n",
    "# print(real_ratings)\n",
    "\n",
    "for container in containers:\n",
    "    product_name = container.div.img[\"alt\"]\n",
    "    \n",
    "    price_container=container.findAll(\"div\",class_=\"_1uv9Cb\")\n",
    "    price=price_container[0].text.strip()\n",
    "    \n",
    "    ratings_container=container.findAll(\"div\",class_=\"niH0FQ _36Fcw_\")\n",
    "    ratings=ratings_container[0].text\n",
    "    \n",
    "    print(\"Product Name => \" + product_name )\n",
    "    print(\"Pricing => \" + price)\n",
    "    print(\"Ratings => \" + ratings)\n",
    "    \n",
    "\n",
    "    \n",
    "    "
   ]
  },
  {
   "cell_type": "code",
   "execution_count": null,
   "metadata": {},
   "outputs": [],
   "source": []
  }
 ],
 "metadata": {
  "kernelspec": {
   "display_name": "Python 3",
   "language": "python",
   "name": "python3"
  },
  "language_info": {
   "codemirror_mode": {
    "name": "ipython",
    "version": 3
   },
   "file_extension": ".py",
   "mimetype": "text/x-python",
   "name": "python",
   "nbconvert_exporter": "python",
   "pygments_lexer": "ipython3",
   "version": "3.7.3"
  }
 },
 "nbformat": 4,
 "nbformat_minor": 2
}
